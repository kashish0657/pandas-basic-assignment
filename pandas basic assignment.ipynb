{
 "cells": [
  {
   "cell_type": "markdown",
   "id": "6c80cfe6-930b-40d3-9ad5-ea7a1d5608c7",
   "metadata": {},
   "source": [
    "## PANDAS BASIC ASSIGNMENT"
   ]
  },
  {
   "cell_type": "markdown",
   "id": "1da0e092-cd79-4cb6-bd9a-d53e89f57e2e",
   "metadata": {},
   "source": [
    "## 1:ans:->"
   ]
  },
  {
   "cell_type": "code",
   "execution_count": 1,
   "id": "73b62905-6dbf-4198-8215-f66eac4c9a84",
   "metadata": {},
   "outputs": [
    {
     "name": "stdout",
     "output_type": "stream",
     "text": [
      "0     4\n",
      "1     8\n",
      "2    15\n",
      "3    16\n",
      "4    23\n",
      "5    42\n",
      "dtype: int64\n"
     ]
    }
   ],
   "source": [
    "import pandas as pd\n",
    "\n",
    "# create series\n",
    "data = [4, 8, 15, 16, 23, 42]\n",
    "series = pd.Series(data)\n",
    "\n",
    "# print series\n",
    "print(series)\n"
   ]
  },
  {
   "cell_type": "markdown",
   "id": "efa5c654-fd99-4a59-9761-4b8d9a174f49",
   "metadata": {},
   "source": [
    "## 2:ans:->"
   ]
  },
  {
   "cell_type": "code",
   "execution_count": 2,
   "id": "ac670153-a15d-4225-9291-a4011f6376fe",
   "metadata": {},
   "outputs": [
    {
     "name": "stdout",
     "output_type": "stream",
     "text": [
      "0     1\n",
      "1     2\n",
      "2     3\n",
      "3     4\n",
      "4     5\n",
      "5     6\n",
      "6     7\n",
      "7     8\n",
      "8     9\n",
      "9    10\n",
      "dtype: int64\n"
     ]
    }
   ],
   "source": [
    "import pandas as pd\n",
    "\n",
    "my_list = [1, 2, 3, 4, 5, 6, 7, 8, 9, 10]\n",
    "\n",
    "my_series = pd.Series(my_list)\n",
    "\n",
    "print(my_series)\n"
   ]
  },
  {
   "cell_type": "markdown",
   "id": "cf57e454-c0db-401e-87e4-a6bad05e77aa",
   "metadata": {},
   "source": [
    "## 3:ans:->"
   ]
  },
  {
   "cell_type": "code",
   "execution_count": 3,
   "id": "9f200298-df64-4a62-9eb8-362aacad6239",
   "metadata": {},
   "outputs": [
    {
     "name": "stdout",
     "output_type": "stream",
     "text": [
      "     name  age  gender\n",
      "0   alice   25  female\n",
      "1     bob   30    male\n",
      "2  cloria   27  female\n"
     ]
    }
   ],
   "source": [
    "import pandas as pd\n",
    "\n",
    "data = {'name': ['alice', 'bob', 'cloria'],\n",
    "        'age': [25, 30, 27],\n",
    "        'gender': ['female', 'male', 'female']}\n",
    "\n",
    "df = pd.DataFrame(data)\n",
    "print(df)\n"
   ]
  },
  {
   "cell_type": "markdown",
   "id": "92ab19a1-f327-46d7-8512-401ed56390ea",
   "metadata": {},
   "source": [
    "## 4:ans:->"
   ]
  },
  {
   "cell_type": "code",
   "execution_count": null,
   "id": "4c7c9519-b978-4a67-97f9-33a45d64ac86",
   "metadata": {},
   "outputs": [],
   "source": [
    "In Pandas, a DataFrame is a two-dimensional, size-mutable, tabular data structure with labeled \n",
    "axes (rows and columns). It is a highly efficient and flexible data structure that can store and \n",
    "manipulate large amounts of data.\n",
    "\n",
    "The main difference between a DataFrame and a Series is that a Series represents a single column\n",
    "of data, while a DataFrame represents multiple columns of data. In other words, a DataFrame is a\n",
    "collection of Series that share the same index.\n"
   ]
  },
  {
   "cell_type": "code",
   "execution_count": 1,
   "id": "4e92b936-ab75-491c-94d5-9d6aa9541709",
   "metadata": {},
   "outputs": [
    {
     "name": "stdout",
     "output_type": "stream",
     "text": [
      "0     Apple\n",
      "1    Banana\n",
      "2    Cherry\n",
      "3    Durian\n",
      "dtype: object\n"
     ]
    }
   ],
   "source": [
    "import pandas as pd\n",
    "\n",
    "# create a Pandas Series\n",
    "fruits = pd.Series(['Apple', 'Banana', 'Cherry', 'Durian'])\n",
    "print(fruits)\n"
   ]
  },
  {
   "cell_type": "code",
   "execution_count": 2,
   "id": "5742eaaf-aa53-49eb-abc5-cb48a93fa1cc",
   "metadata": {},
   "outputs": [
    {
     "name": "stdout",
     "output_type": "stream",
     "text": [
      "   fruits  prices\n",
      "0   Apple     1.2\n",
      "1  Banana     2.3\n",
      "2  Cherry     3.4\n",
      "3  Durian     4.5\n"
     ]
    }
   ],
   "source": [
    "# create a Pandas DataFrame\n",
    "data = {'fruits': ['Apple', 'Banana', 'Cherry', 'Durian'], 'prices': [1.2, 2.3, 3.4, 4.5]}\n",
    "df = pd.DataFrame(data)\n",
    "print(df)\n"
   ]
  },
  {
   "cell_type": "markdown",
   "id": "43d93c42-c986-4d36-b4ba-87b351edac22",
   "metadata": {},
   "source": [
    "## 5:ans:->"
   ]
  },
  {
   "cell_type": "code",
   "execution_count": null,
   "id": "f49f2dc0-19fd-4aa6-beaf-9ff7b19fc092",
   "metadata": {},
   "outputs": [],
   "source": [
    "Pandas is a popular data manipulation library in Python, widely used for data cleaning, data analysis,\n",
    "and data visualization. Here are some common functions you can use to manipulate data in a Pandas DataFrame:\n",
    "\n",
    "1:- head() - returns the first few rows of a DataFrame\n",
    "2:- tail() - returns the last few rows of a DataFrame\n",
    "3:- shape - returns the dimensions of a DataFrame\n",
    "4:- info() - provides a summary of the DataFrame, including data types and non-null values\n",
    "5:- describe() - returns a summary of statistics for numerical columns in the DataFrame\n",
    "6:- drop() - removes specified rows or columns from the DataFrame\n",
    "7:- fillna() - fills missing values in the DataFrame with a specified value\n",
    "8:- groupby() - groups the DataFrame by a specified column and applies a function to each group\n",
    "9:- sort_values() - sorts the DataFrame by one or more columns\n",
    "\n",
    "\n",
    "                            EXAMPLE :-"
   ]
  },
  {
   "cell_type": "code",
   "execution_count": 3,
   "id": "2f260cc3-9693-4ec3-a39f-7c0c8caaa029",
   "metadata": {},
   "outputs": [
    {
     "name": "stdout",
     "output_type": "stream",
     "text": [
      "department\n",
      "Engineering    90000\n",
      "Marketing      80000\n",
      "Sales          60000\n",
      "Name: salary, dtype: int64\n"
     ]
    }
   ],
   "source": [
    "import pandas as pd\n",
    "\n",
    "# create a sample DataFrame\n",
    "df = pd.DataFrame({'name': ['Alice', 'Bob', 'Charlie', 'David', 'Emily'],\n",
    "                   'department': ['Sales', 'Sales', 'Marketing', 'Marketing', 'Engineering'],\n",
    "                   'salary': [50000, 60000, 70000, 80000, 90000],\n",
    "                   'hire_date': ['2018-01-01', '2017-03-15', '2019-05-01', '2016-10-01', '2020-01-01']})\n",
    "\n",
    "# group the data by department and find the highest salary in each group\n",
    "max_salaries = df.groupby('department')['salary'].max()\n",
    "\n",
    "# print the result\n",
    "print(max_salaries)"
   ]
  },
  {
   "cell_type": "markdown",
   "id": "40b6f6d3-dc4e-4b83-b6f5-e70914edc10f",
   "metadata": {},
   "source": [
    "## 6:-ans:->"
   ]
  },
  {
   "cell_type": "code",
   "execution_count": null,
   "id": "045b4a80-5920-4eeb-870a-1f95c0f77d27",
   "metadata": {},
   "outputs": [],
   "source": [
    "In pandas, both Series and DataFrame are mutable objects, meaning their values can be changed after creation."
   ]
  },
  {
   "cell_type": "markdown",
   "id": "388f9417-f907-4749-83e3-2772aa8a2c71",
   "metadata": {},
   "source": [
    "## 7:ans:->"
   ]
  },
  {
   "cell_type": "code",
   "execution_count": null,
   "id": "c59be194-7e7e-45b2-9c26-46edc2621438",
   "metadata": {},
   "outputs": [],
   "source": [
    "A DataFrame is a two-dimensional data structure that can store data of different types in columns.\n",
    "A Series is a one-dimensional array-like object that can hold data of any type. We can create a \n",
    "DataFrame by combining multiple Series together.\n"
   ]
  },
  {
   "cell_type": "code",
   "execution_count": 4,
   "id": "6f67fe26-5edd-45e0-a811-e07c07e3099d",
   "metadata": {},
   "outputs": [
    {
     "name": "stdout",
     "output_type": "stream",
     "text": [
      "      Name  Age  Salary\n",
      "0    Alice   25   50000\n",
      "1      Bob   30   60000\n",
      "2  Charlie   35   70000\n",
      "3    David   40   80000\n"
     ]
    }
   ],
   "source": [
    "import pandas as pd\n",
    "\n",
    "# create a series of names\n",
    "names = pd.Series(['Alice', 'Bob', 'Charlie', 'David'])\n",
    "\n",
    "# create a series of ages\n",
    "ages = pd.Series([25, 30, 35, 40])\n",
    "\n",
    "# create a series of salaries\n",
    "salaries = pd.Series([50000, 60000, 70000, 80000])\n",
    "\n",
    "# combine the series into a DataFrame\n",
    "df = pd.DataFrame({'Name': names, 'Age': ages, 'Salary': salaries})\n",
    "\n",
    "# print the DataFrame\n",
    "print(df)\n"
   ]
  },
  {
   "cell_type": "code",
   "execution_count": null,
   "id": "8bebb5ea-ef7f-4a96-bd33-b9a0c59b5f5c",
   "metadata": {},
   "outputs": [],
   "source": []
  }
 ],
 "metadata": {
  "kernelspec": {
   "display_name": "Python 3 (ipykernel)",
   "language": "python",
   "name": "python3"
  },
  "language_info": {
   "codemirror_mode": {
    "name": "ipython",
    "version": 3
   },
   "file_extension": ".py",
   "mimetype": "text/x-python",
   "name": "python",
   "nbconvert_exporter": "python",
   "pygments_lexer": "ipython3",
   "version": "3.10.8"
  }
 },
 "nbformat": 4,
 "nbformat_minor": 5
}
